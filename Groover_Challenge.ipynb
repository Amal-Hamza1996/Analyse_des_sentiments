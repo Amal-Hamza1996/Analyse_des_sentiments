{
  "nbformat": 4,
  "nbformat_minor": 0,
  "metadata": {
    "colab": {
      "name": "Groover_Challenge.ipynb",
      "provenance": []
    },
    "kernelspec": {
      "name": "python3",
      "display_name": "Python 3"
    }
  },
  "cells": [
    {
      "cell_type": "markdown",
      "metadata": {
        "id": "zAssVXgzf7kG"
      },
      "source": [
        "**Exercice 1: General Statistics**"
      ]
    },
    {
      "cell_type": "code",
      "metadata": {
        "id": "s-NEImKHgBqU"
      },
      "source": [
        "# Loading librairies\r\n",
        "import numpy as np\r\n",
        "import pandas as pd\r\n",
        "import matplotlib.pyplot as plt\r\n",
        "%matplotlib inline\r\n",
        "plt.rcParams['figure.figsize'] = (10.0, 8.0)\r\n",
        "import seaborn as sns\r\n",
        "from collections import Counter\r\n",
        "import re\r\n",
        "import string"
      ],
      "execution_count": 1,
      "outputs": []
    },
    {
      "cell_type": "code",
      "metadata": {
        "colab": {
          "base_uri": "https://localhost:8080/",
          "height": 435
        },
        "id": "VctQ260zgXRn",
        "outputId": "e45387d8-20ef-4677-85cb-19cd0cd65a26"
      },
      "source": [
        "# Loading Data Set\r\n",
        "df = pd.read_csv('data/groover_dataset_challenge.csv', delimiter = \",\")\r\n",
        "print('The data has {0} rows and {1} columns'.format(df.shape[0], df.shape[1]))\r\n",
        "print('-----------------------------')\r\n",
        "df"
      ],
      "execution_count": 2,
      "outputs": [
        {
          "output_type": "stream",
          "text": [
            "The data has 10000 rows and 6 columns\n",
            "-----------------------------\n"
          ],
          "name": "stdout"
        },
        {
          "output_type": "execute_result",
          "data": {
            "text/html": [
              "<div>\n",
              "<style scoped>\n",
              "    .dataframe tbody tr th:only-of-type {\n",
              "        vertical-align: middle;\n",
              "    }\n",
              "\n",
              "    .dataframe tbody tr th {\n",
              "        vertical-align: top;\n",
              "    }\n",
              "\n",
              "    .dataframe thead th {\n",
              "        text-align: right;\n",
              "    }\n",
              "</style>\n",
              "<table border=\"1\" class=\"dataframe\">\n",
              "  <thead>\n",
              "    <tr style=\"text-align: right;\">\n",
              "      <th></th>\n",
              "      <th>Unnamed: 0</th>\n",
              "      <th>id</th>\n",
              "      <th>band_id</th>\n",
              "      <th>influencer_id</th>\n",
              "      <th>feedback</th>\n",
              "      <th>score</th>\n",
              "    </tr>\n",
              "  </thead>\n",
              "  <tbody>\n",
              "    <tr>\n",
              "      <th>0</th>\n",
              "      <td>0</td>\n",
              "      <td>920636</td>\n",
              "      <td>24665</td>\n",
              "      <td>1642</td>\n",
              "      <td>Bonjour Diogo Ramos,\\n\\n\\nMerci pour le partag...</td>\n",
              "      <td>0.00</td>\n",
              "    </tr>\n",
              "    <tr>\n",
              "      <th>1</th>\n",
              "      <td>1</td>\n",
              "      <td>920637</td>\n",
              "      <td>24665</td>\n",
              "      <td>118</td>\n",
              "      <td>Un message touchant, développé sur une onde mu...</td>\n",
              "      <td>0.00</td>\n",
              "    </tr>\n",
              "    <tr>\n",
              "      <th>2</th>\n",
              "      <td>2</td>\n",
              "      <td>920639</td>\n",
              "      <td>24665</td>\n",
              "      <td>226</td>\n",
              "      <td>Bonjour ! Merci beaucoup pour l'envoi ! On n'e...</td>\n",
              "      <td>0.00</td>\n",
              "    </tr>\n",
              "    <tr>\n",
              "      <th>3</th>\n",
              "      <td>3</td>\n",
              "      <td>920640</td>\n",
              "      <td>24665</td>\n",
              "      <td>1603</td>\n",
              "      <td>Bonjour. Merci pour cette fraîcheur et cet hym...</td>\n",
              "      <td>1.00</td>\n",
              "    </tr>\n",
              "    <tr>\n",
              "      <th>4</th>\n",
              "      <td>4</td>\n",
              "      <td>920641</td>\n",
              "      <td>24665</td>\n",
              "      <td>111</td>\n",
              "      <td>Salut Diogo, alors c'est un peu éloigné de ce ...</td>\n",
              "      <td>1.00</td>\n",
              "    </tr>\n",
              "    <tr>\n",
              "      <th>...</th>\n",
              "      <td>...</td>\n",
              "      <td>...</td>\n",
              "      <td>...</td>\n",
              "      <td>...</td>\n",
              "      <td>...</td>\n",
              "      <td>...</td>\n",
              "    </tr>\n",
              "    <tr>\n",
              "      <th>9995</th>\n",
              "      <td>9995</td>\n",
              "      <td>936179</td>\n",
              "      <td>30049</td>\n",
              "      <td>3499</td>\n",
              "      <td>Hey guys, thanks for sharing, great sound, alt...</td>\n",
              "      <td>1.00</td>\n",
              "    </tr>\n",
              "    <tr>\n",
              "      <th>9996</th>\n",
              "      <td>9996</td>\n",
              "      <td>936241</td>\n",
              "      <td>33795</td>\n",
              "      <td>2570</td>\n",
              "      <td>Hello MD One, thank you for your track Bombe A...</td>\n",
              "      <td>0.00</td>\n",
              "    </tr>\n",
              "    <tr>\n",
              "      <th>9997</th>\n",
              "      <td>9997</td>\n",
              "      <td>936266</td>\n",
              "      <td>18877</td>\n",
              "      <td>2598</td>\n",
              "      <td>Hi! Thanks for sharing your track! I really li...</td>\n",
              "      <td>1.00</td>\n",
              "    </tr>\n",
              "    <tr>\n",
              "      <th>9998</th>\n",
              "      <td>9998</td>\n",
              "      <td>936274</td>\n",
              "      <td>18877</td>\n",
              "      <td>3179</td>\n",
              "      <td>This is an exceptionally produced electro-pop ...</td>\n",
              "      <td>0.25</td>\n",
              "    </tr>\n",
              "    <tr>\n",
              "      <th>9999</th>\n",
              "      <td>9999</td>\n",
              "      <td>936392</td>\n",
              "      <td>34059</td>\n",
              "      <td>386</td>\n",
              "      <td>Yo c'est pas mal ce que tu fais !\\nLes prod c'...</td>\n",
              "      <td>1.00</td>\n",
              "    </tr>\n",
              "  </tbody>\n",
              "</table>\n",
              "<p>10000 rows × 6 columns</p>\n",
              "</div>"
            ],
            "text/plain": [
              "      Unnamed: 0  ...  score\n",
              "0              0  ...   0.00\n",
              "1              1  ...   0.00\n",
              "2              2  ...   0.00\n",
              "3              3  ...   1.00\n",
              "4              4  ...   1.00\n",
              "...          ...  ...    ...\n",
              "9995        9995  ...   1.00\n",
              "9996        9996  ...   0.00\n",
              "9997        9997  ...   1.00\n",
              "9998        9998  ...   0.25\n",
              "9999        9999  ...   1.00\n",
              "\n",
              "[10000 rows x 6 columns]"
            ]
          },
          "metadata": {
            "tags": []
          },
          "execution_count": 2
        }
      ]
    },
    {
      "cell_type": "code",
      "metadata": {
        "id": "tQ6GQXTagcd2"
      },
      "source": [
        "# separate variables into index data Frames\r\n",
        "numeric_data = df.select_dtypes(include = [np.number])\r\n",
        "cat_data = df.select_dtypes(exclude = [np.number])\r\n",
        "print(\"There are {} numeric and {} categorical columns in data\".format(numeric_data.shape[1], cat_data.shape[1]))\r\n",
        "print(\"-------------------------\")\r\n",
        "\r\n",
        "# Remove the Id variable\r\n",
        "del numeric_data['Unnamed: 0']\r\n",
        "del numeric_data['id']\r\n",
        "\r\n",
        "\r\n",
        "# Check data set information\r\n",
        "df.info()"
      ],
      "execution_count": null,
      "outputs": []
    },
    {
      "cell_type": "markdown",
      "metadata": {
        "id": "kAzfTzYoghmT"
      },
      "source": [
        "On dispose donc de 5 variables: 4 variables numériques (id, band_id, influencer_id, et score), et une variable textuelle qu'on va devoir traiter en utilisant les techniques de Text Mining en NLP (Natural Language Processing). Le score est la variable à prédire. On enlève la variable \"Id\" qui ne servira pas à la prédiction."
      ]
    },
    {
      "cell_type": "code",
      "metadata": {
        "id": "otMhQKRGgdgo"
      },
      "source": [
        "print('The number of band is: {0}'.format(len(df['band_id'].unique())))\r\n",
        "print('------------------------------')\r\n",
        "print('The number of influencer is: {0}'.format(len(df['influencer_id'].unique())))"
      ],
      "execution_count": null,
      "outputs": []
    },
    {
      "cell_type": "markdown",
      "metadata": {
        "id": "tzRFmzKGgtKf"
      },
      "source": [
        "Le nombre de groupe de musiciens est: 970, et le nombre de groupe d'influenceur est 898. Donc en moyenne, le nombre de groupe de musiciens par influenceur est: 970/898 est à peu près: 1.08."
      ]
    },
    {
      "cell_type": "code",
      "metadata": {
        "colab": {
          "base_uri": "https://localhost:8080/"
        },
        "id": "oYrk05h4gdwK",
        "outputId": "5b0c6482-14ff-4162-cce1-0712dfc58ba6"
      },
      "source": [
        "# Check if the data set has any missing values\r\n",
        "df.columns[df.isnull().any()]"
      ],
      "execution_count": 3,
      "outputs": [
        {
          "output_type": "execute_result",
          "data": {
            "text/plain": [
              "Index([], dtype='object')"
            ]
          },
          "metadata": {
            "tags": []
          },
          "execution_count": 3
        }
      ]
    },
    {
      "cell_type": "markdown",
      "metadata": {
        "id": "g6_p5Jo_g7hT"
      },
      "source": [
        "La data ne contient pas des valeurs manquantes."
      ]
    },
    {
      "cell_type": "code",
      "metadata": {
        "colab": {
          "base_uri": "https://localhost:8080/",
          "height": 350
        },
        "id": "BSDcK_krgeCZ",
        "outputId": "70a0dd46-4ab9-48c8-a6e2-4b58ddff06a5"
      },
      "source": [
        "# Check the distribution of the target variable\r\n",
        "sns.distplot(df['score'])"
      ],
      "execution_count": 4,
      "outputs": [
        {
          "output_type": "stream",
          "text": [
            "/usr/local/lib/python3.6/dist-packages/seaborn/distributions.py:2557: FutureWarning: `distplot` is a deprecated function and will be removed in a future version. Please adapt your code to use either `displot` (a figure-level function with similar flexibility) or `histplot` (an axes-level function for histograms).\n",
            "  warnings.warn(msg, FutureWarning)\n"
          ],
          "name": "stderr"
        },
        {
          "output_type": "execute_result",
          "data": {
            "text/plain": [
              "<matplotlib.axes._subplots.AxesSubplot at 0x7fbd86b6a860>"
            ]
          },
          "metadata": {
            "tags": []
          },
          "execution_count": 4
        },
        {
          "output_type": "display_data",
          "data": {
            "image/png": "[encoded data removed]",
            "text/plain": [
              "<Figure size 432x288 with 1 Axes>"
            ]
          },
          "metadata": {
            "tags": [],
            "needs_background": "light"
          }
        }
      ]
    },
    {
      "cell_type": "markdown",
      "metadata": {
        "id": "ADMzqNQthE67"
      },
      "source": [
        "On remarque donc que la target Score est une variable discrete qui peut prendre 4 valeurs: 0, 0.25, 0.5, et 1. La plupart des Feedback sont désagréables ( étiquetés par 0)."
      ]
    },
    {
      "cell_type": "code",
      "metadata": {
        "colab": {
          "base_uri": "https://localhost:8080/",
          "height": 265
        },
        "id": "0DxXZ9mbgeW5",
        "outputId": "570c501f-d1cc-455b-e4ef-f094e4b88209"
      },
      "source": [
        "# Barplot score for each aband in the dataset\r\n",
        "sns.barplot(x=[str(0), str(0.25), str(0.5), str(1)], y=df['score'].value_counts());"
      ],
      "execution_count": 5,
      "outputs": [
        {
          "output_type": "display_data",
          "data": {
            "image/png": "[encoded data removed]",
            "text/plain": [
              "<Figure size 432x288 with 1 Axes>"
            ]
          },
          "metadata": {
            "tags": [],
            "needs_background": "light"
          }
        }
      ]
    },
    {
      "cell_type": "markdown",
      "metadata": {
        "id": "rl4F-NB2hPsc"
      },
      "source": [
        "On se rend compte aussi que les valeurs de score pour les feedback ne sont pas forcémenet équilibrés dans le jeu de données. C'est un biais d'apprentissage qu'il faut prendre en compte dans la prédiction."
      ]
    },
    {
      "cell_type": "code",
      "metadata": {
        "colab": {
          "base_uri": "https://localhost:8080/"
        },
        "id": "QKKJfMW3hNrO",
        "outputId": "f5791637-5332-4bdf-ab4d-97d79b1ee08c"
      },
      "source": [
        "# Count the number of members in each band and select the band_id which corresponds to the maximum of artist \r\n",
        "list_band_id = df['band_id'].unique()\r\n",
        "count_band = {}\r\n",
        "for i in range(len(list_band_id)):\r\n",
        "  count_band[str(list_band_id[i])] = (df['band_id'].tolist()).count(list_band_id[i])\r\n",
        "\r\n",
        "inverse = [(value, key) for key, value in count_band.items()]\r\n",
        "print(max(inverse)[1])"
      ],
      "execution_count": 6,
      "outputs": [
        {
          "output_type": "stream",
          "text": [
            "603\n"
          ],
          "name": "stdout"
        }
      ]
    },
    {
      "cell_type": "code",
      "metadata": {
        "colab": {
          "base_uri": "https://localhost:8080/",
          "height": 402
        },
        "id": "0CnK6kpDhN05",
        "outputId": "9cc25b55-8910-497d-de25-bb443a4f801d"
      },
      "source": [
        "# Select rows corresponding to the maximum of members in bands\r\n",
        "max_band = df[['band_id','influencer_id', 'feedback', 'score']].query('band_id == 603')\r\n",
        "max_band"
      ],
      "execution_count": 7,
      "outputs": [
        {
          "output_type": "execute_result",
          "data": {
            "text/html": [
              "<div>\n",
              "<style scoped>\n",
              "    .dataframe tbody tr th:only-of-type {\n",
              "        vertical-align: middle;\n",
              "    }\n",
              "\n",
              "    .dataframe tbody tr th {\n",
              "        vertical-align: top;\n",
              "    }\n",
              "\n",
              "    .dataframe thead th {\n",
              "        text-align: right;\n",
              "    }\n",
              "</style>\n",
              "<table border=\"1\" class=\"dataframe\">\n",
              "  <thead>\n",
              "    <tr style=\"text-align: right;\">\n",
              "      <th></th>\n",
              "      <th>band_id</th>\n",
              "      <th>influencer_id</th>\n",
              "      <th>feedback</th>\n",
              "      <th>score</th>\n",
              "    </tr>\n",
              "  </thead>\n",
              "  <tbody>\n",
              "    <tr>\n",
              "      <th>946</th>\n",
              "      <td>603</td>\n",
              "      <td>2768</td>\n",
              "      <td>The video is made beautifully and I love your ...</td>\n",
              "      <td>0.25</td>\n",
              "    </tr>\n",
              "    <tr>\n",
              "      <th>947</th>\n",
              "      <td>603</td>\n",
              "      <td>2443</td>\n",
              "      <td>Bonsoir et merci pour ce nouvel envoi mais com...</td>\n",
              "      <td>0.00</td>\n",
              "    </tr>\n",
              "    <tr>\n",
              "      <th>948</th>\n",
              "      <td>603</td>\n",
              "      <td>2876</td>\n",
              "      <td>Dear Magon,\\n\\nthe track is pretty ok but it d...</td>\n",
              "      <td>0.00</td>\n",
              "    </tr>\n",
              "    <tr>\n",
              "      <th>949</th>\n",
              "      <td>603</td>\n",
              "      <td>2000</td>\n",
              "      <td>Ciao sono Marco Racchella MRP75 direttore arti...</td>\n",
              "      <td>0.50</td>\n",
              "    </tr>\n",
              "    <tr>\n",
              "      <th>950</th>\n",
              "      <td>603</td>\n",
              "      <td>3441</td>\n",
              "      <td>Hello! \\nI liked your music, it is very good. ...</td>\n",
              "      <td>0.25</td>\n",
              "    </tr>\n",
              "    <tr>\n",
              "      <th>...</th>\n",
              "      <td>...</td>\n",
              "      <td>...</td>\n",
              "      <td>...</td>\n",
              "      <td>...</td>\n",
              "    </tr>\n",
              "    <tr>\n",
              "      <th>1110</th>\n",
              "      <td>603</td>\n",
              "      <td>3092</td>\n",
              "      <td>Très intéressant!\\nLe choix d'utiliser cette b...</td>\n",
              "      <td>0.25</td>\n",
              "    </tr>\n",
              "    <tr>\n",
              "      <th>1111</th>\n",
              "      <td>603</td>\n",
              "      <td>2557</td>\n",
              "      <td>Hello and thank you for sending your music. An...</td>\n",
              "      <td>1.00</td>\n",
              "    </tr>\n",
              "    <tr>\n",
              "      <th>2867</th>\n",
              "      <td>603</td>\n",
              "      <td>3565</td>\n",
              "      <td>La chanson est très intéressante au niveau son...</td>\n",
              "      <td>0.25</td>\n",
              "    </tr>\n",
              "    <tr>\n",
              "      <th>2868</th>\n",
              "      <td>603</td>\n",
              "      <td>3582</td>\n",
              "      <td>This song remember some lo-fi nineties sounds ...</td>\n",
              "      <td>0.25</td>\n",
              "    </tr>\n",
              "    <tr>\n",
              "      <th>2869</th>\n",
              "      <td>603</td>\n",
              "      <td>3586</td>\n",
              "      <td>Hello Magon, on adore l'ambiance et surtout la...</td>\n",
              "      <td>0.00</td>\n",
              "    </tr>\n",
              "  </tbody>\n",
              "</table>\n",
              "<p>169 rows × 4 columns</p>\n",
              "</div>"
            ],
            "text/plain": [
              "      band_id  ...  score\n",
              "946       603  ...   0.25\n",
              "947       603  ...   0.00\n",
              "948       603  ...   0.00\n",
              "949       603  ...   0.50\n",
              "950       603  ...   0.25\n",
              "...       ...  ...    ...\n",
              "1110      603  ...   0.25\n",
              "1111      603  ...   1.00\n",
              "2867      603  ...   0.25\n",
              "2868      603  ...   0.25\n",
              "2869      603  ...   0.00\n",
              "\n",
              "[169 rows x 4 columns]"
            ]
          },
          "metadata": {
            "tags": []
          },
          "execution_count": 7
        }
      ]
    },
    {
      "cell_type": "code",
      "metadata": {
        "colab": {
          "base_uri": "https://localhost:8080/",
          "height": 265
        },
        "id": "n1nunAIBhN-H",
        "outputId": "4c1a6eb7-e455-4d17-edd3-a48380390610"
      },
      "source": [
        "# Barplot score for each aband in the dataset\r\n",
        "sns.barplot(x=[str(0), str(0.25), str(0.5), str(1)], y=max_band['score'].value_counts());"
      ],
      "execution_count": 8,
      "outputs": [
        {
          "output_type": "display_data",
          "data": {
            "image/png": "[encoded data removed]",
            "text/plain": [
              "<Figure size 432x288 with 1 Axes>"
            ]
          },
          "metadata": {
            "tags": [],
            "needs_background": "light"
          }
        }
      ]
    },
    {
      "cell_type": "markdown",
      "metadata": {
        "id": "TR48JdvahiwU"
      },
      "source": [
        "Dans cette sous partie on va faire une analyse des feedback."
      ]
    },
    {
      "cell_type": "code",
      "metadata": {
        "colab": {
          "base_uri": "https://localhost:8080/"
        },
        "id": "HyjQaS6dhOHS",
        "outputId": "3f8707f1-f4f9-452c-f937-345771c70c75"
      },
      "source": [
        "# Check the feedback\r\n",
        "print('------------------Band: {0}-----------'.format(np.array(df['band_id'])[0]), '\\n')\r\n",
        "print('The feedback is: {0}'.format(np.array(df['feedback'])[0]))\r\n",
        "print('The score is: {0}'.format(np.array(df['score'])[0]), '\\n')\r\n",
        "\r\n",
        "print('------------------Band: {0}-----------'.format(np.array(df['band_id'])[9997]), '\\n')\r\n",
        "print('The feedback is: {0}'.format(np.array(df['feedback'])[9997]))\r\n",
        "print('The score is: {0}'.format(np.array(df['score'])[9997]))"
      ],
      "execution_count": 9,
      "outputs": [
        {
          "output_type": "stream",
          "text": [
            "------------------Band: 24665----------- \n",
            "\n",
            "The feedback is: Bonjour Diogo Ramos,\n",
            "\n",
            "\n",
            "Merci pour le partage.\n",
            "Actuellement le titre ne correspond pas à notre ligne de programmation.\n",
            "\n",
            "N'hésitez pas à nous envoyer vos prochains sons.\n",
            "\n",
            "Bonne continuation,\n",
            "\n",
            "\n",
            "André\n",
            "Le Labo\n",
            "\n",
            "The score is: 0.0 \n",
            "\n",
            "------------------Band: 18877----------- \n",
            "\n",
            "The feedback is: Hi! Thanks for sharing your track! I really like this song. It really gave me good vibes whilst listening to it and I'd love to share in on my Instagram Stories!\n",
            "The score is: 1.0\n"
          ],
          "name": "stdout"
        }
      ]
    },
    {
      "cell_type": "markdown",
      "metadata": {
        "id": "kohxfnRMhqW-"
      },
      "source": [
        "On remarque donc que d'après les scores de feedback. l'étiquette 1 correspond à un feedback agréable, et 0 correspond à un feedback négatif. On remarque aussi qu'il y a des commentaires en anglais, et des commentaires en français. Ceci est à prendre en compte pendant le traitement du texte ( Notamment pendant la suppression des stopwords, lemmatization, etc)."
      ]
    },
    {
      "cell_type": "code",
      "metadata": {
        "colab": {
          "base_uri": "https://localhost:8080/",
          "height": 716
        },
        "id": "WvOH_GR9hsSn",
        "outputId": "797f510b-f48c-4668-ac2c-a93cd8c3a24d"
      },
      "source": [
        "score_neg = df[df['score'] == 0.0]\r\n",
        "score_neg_text = ' '.join(text for text in score_neg['feedback'])\r\n",
        "score_neg_list = score_neg_text.split()\r\n",
        "score_neg_counts = Counter(score_neg_list)\r\n",
        "score_neg_common_words = [word[0] for word in score_neg_counts.most_common(25)]\r\n",
        "score_neg_common_counts = [word[1] for word in score_neg_counts.most_common(25)]\r\n",
        "\r\n",
        "plt.style.use('dark_background')\r\n",
        "plt.figure(figsize=(15, 12))\r\n",
        "\r\n",
        "sns.barplot(x=score_neg_common_words, y=score_neg_common_counts)\r\n",
        "plt.title('Most Common Words used in feedback when score is 0');"
      ],
      "execution_count": 10,
      "outputs": [
        {
          "output_type": "display_data",
          "data": {
            "image/png": "[encoded data removed]",
            "text/plain": [
              "<Figure size 1080x864 with 1 Axes>"
            ]
          },
          "metadata": {
            "tags": []
          }
        }
      ]
    },
    {
      "cell_type": "markdown",
      "metadata": {
        "id": "Rge9PGC0h0cf"
      },
      "source": [
        "On a donc beaucoup de mots commun comme \"the\", \"de\", \"a\" qui ne nous intéressent pas, car ils appartiennent au liste des stopwords. On va donc devoir nettoyer les textes."
      ]
    },
    {
      "cell_type": "markdown",
      "metadata": {
        "id": "dlJ5c8nVh2Jn"
      },
      "source": [
        "**Exercice 2: Preprocessing Natural Language**"
      ]
    },
    {
      "cell_type": "code",
      "metadata": {
        "colab": {
          "base_uri": "https://localhost:8080/"
        },
        "id": "7PRCVxtyhOSL",
        "outputId": "198df666-465c-4385-c916-9f931be1fcd8"
      },
      "source": [
        "import nltk\r\n",
        "\r\n",
        "from nltk.corpus import stopwords\r\n",
        "from nltk.tokenize import word_tokenize\r\n",
        "from nltk.stem import WordNetLemmatizer\r\n",
        "from nltk.collocations import *\r\n",
        "\r\n",
        "# Tokenzation\r\n",
        "nltk.download('punkt')\r\n",
        "\r\n",
        "# Stopwords in english\r\n",
        "try:\r\n",
        "    stopwords_english = set(stopwords.words('english'))\r\n",
        "except LookupError:\r\n",
        "    import nltk\r\n",
        "    nltk.download('stopwords')\r\n",
        "    stopwords_english = set(stopwords.words('english'))\r\n",
        "\r\n",
        "# Stopwords in French\r\n",
        "try:\r\n",
        "    stopwords_french = set(stopwords.words('french'))\r\n",
        "except LookupError:\r\n",
        "    stopwords_french = set(stopwords.words('french'))\r\n",
        "\r\n",
        "stopwords = stopwords_english.union(stopwords_french)\r\n",
        "\r\n",
        "print('The number of stopwords in english is: {0}'.format(len(stopwords_english)))\r\n",
        "print('------------------------------')\r\n",
        "print('The number of stopwords in french is: {0}'.format(len(stopwords_french)))"
      ],
      "execution_count": 11,
      "outputs": [
        {
          "output_type": "stream",
          "text": [
            "[nltk_data] Downloading package punkt to /root/nltk_data...\n",
            "[nltk_data]   Unzipping tokenizers/punkt.zip.\n",
            "[nltk_data] Downloading package stopwords to /root/nltk_data...\n",
            "[nltk_data]   Unzipping corpora/stopwords.zip.\n",
            "The number of stopwords in english is: 179\n",
            "------------------------------\n",
            "The number of stopwords in french is: 157\n"
          ],
          "name": "stdout"
        }
      ]
    },
    {
      "cell_type": "markdown",
      "metadata": {
        "id": "odcengqniDYm"
      },
      "source": [
        "Les stopwords sont les mots qui n’ont que peu d’intérêt sémantique comme les déterminants et les pronoms. NLTK dispose d’une liste de stopwords en anglais (179) et en français (157). Et comme on a dit précédemment, il faut prendre en compte les stopwords en anglais et en français.\r\n",
        "\r\n",
        "Pour \"nettoyer\" le texte, on décompose le texte en des tokens (c'est à dire des unités lexicales du texte). Un token peut être aussi un signe de ponctuation. Et puis on enlève les stopwords. Et après on passe à la lemmatisation, cette méthode permet d'éliminer le genre ou le pluriel par exemple."
      ]
    },
    {
      "cell_type": "code",
      "metadata": {
        "id": "fVNyxW09hOfO"
      },
      "source": [
        "try:\r\n",
        "  import spacy\r\n",
        "  nlp = spacy.load('en_core_web_sm')\r\n",
        "except Exception as e:\r\n",
        "  print(e)"
      ],
      "execution_count": 12,
      "outputs": []
    },
    {
      "cell_type": "code",
      "metadata": {
        "colab": {
          "base_uri": "https://localhost:8080/"
        },
        "id": "mpNs4swwhOqF",
        "outputId": "708ccd52-9461-4ebd-8331-8d4ea9509e26"
      },
      "source": [
        "punctuations = string.punctuation\r\n",
        "\r\n",
        "# Define function to cleanup text by removing personal pronouns, stopwords, and puncuation\r\n",
        "def cleanup_text(docs, logging=False):\r\n",
        "    texts = []\r\n",
        "    counter = 1\r\n",
        "    for doc in docs:\r\n",
        "        if counter % 1000 == 0 and logging:\r\n",
        "            print(\"Processed %d out of %d documents.\" % (counter, len(docs)))\r\n",
        "        counter += 1\r\n",
        "        doc = nlp(doc, disable=['parser', 'ner'])\r\n",
        "        tokens = [tok.lemma_.lower().strip() for tok in doc if tok.lemma_ != '-PRON-']\r\n",
        "        tokens = [tok for tok in tokens if tok not in stopwords and tok not in punctuations]\r\n",
        "        tokens = ' '.join(tokens)\r\n",
        "        texts.append(tokens)\r\n",
        "    return pd.Series(texts)\r\n",
        "# Cleanup text and make sure it retains original shape\r\n",
        "print('Original data shape: ', df['feedback'].shape)\r\n",
        "data_cleaned = cleanup_text(df['feedback'], logging=True)\r\n",
        "print('Cleaned up data shape: ', data_cleaned.shape)"
      ],
      "execution_count": 13,
      "outputs": [
        {
          "output_type": "stream",
          "text": [
            "Original data shape:  (10000,)\n",
            "Processed 1000 out of 10000 documents.\n",
            "Processed 2000 out of 10000 documents.\n",
            "Processed 3000 out of 10000 documents.\n",
            "Processed 4000 out of 10000 documents.\n",
            "Processed 5000 out of 10000 documents.\n",
            "Processed 6000 out of 10000 documents.\n",
            "Processed 7000 out of 10000 documents.\n",
            "Processed 8000 out of 10000 documents.\n",
            "Processed 9000 out of 10000 documents.\n",
            "Processed 10000 out of 10000 documents.\n",
            "Cleaned up data shape:  (10000,)\n"
          ],
          "name": "stdout"
        }
      ]
    },
    {
      "cell_type": "markdown",
      "metadata": {
        "id": "x4UsHJ2EiRbo"
      },
      "source": [
        "Après la tokenization, la suppresion des stopwords, et la lemmatisation. On \"parse\" notre docuemnt, c'est à dire on va parcourir tous les textes pour les mettres en forme avant de passer les dans le modèle."
      ]
    },
    {
      "cell_type": "code",
      "metadata": {
        "colab": {
          "base_uri": "https://localhost:8080/"
        },
        "id": "hq6M3vXkiNfW",
        "outputId": "57fb3155-b877-450f-cfed-045d738c2d65"
      },
      "source": [
        "# Parse documents\r\n",
        "print('Parsing documents...')\r\n",
        "train_vec = []\r\n",
        "for doc in nlp.pipe(data_cleaned, batch_size=500):\r\n",
        "    if doc.has_vector:\r\n",
        "        train_vec.append(doc.vector)\r\n",
        "    # If doc doesn't have a vector, then fill it with zeros.\r\n",
        "    else:\r\n",
        "        train_vec.append(np.zeros((128,), dtype=\"float32\"))\r\n",
        "\r\n",
        "train_vec = np.array(train_vec)"
      ],
      "execution_count": 14,
      "outputs": [
        {
          "output_type": "stream",
          "text": [
            "Parsing documents...\n"
          ],
          "name": "stdout"
        }
      ]
    },
    {
      "cell_type": "code",
      "metadata": {
        "colab": {
          "base_uri": "https://localhost:8080/"
        },
        "id": "dCIX9AEgiNqZ",
        "outputId": "d88d1718-f34f-4d36-8422-3fb8f5c207b2"
      },
      "source": [
        "print('Total number of documents parsed: {}'.format(len(train_vec)))\r\n",
        "print('Number of words in first document: ', len(df['feedback'][0]))\r\n",
        "print('Number of words in second document: ', len(df['feedback'][1]))\r\n",
        "print('Size of vector embeddings: ', train_vec.shape)\r\n",
        "print('Shape of vectors embeddings matrix: ', train_vec.shape)\r\n",
        "\r\n",
        "all_text = pd.DataFrame(df, columns=['feedback'])\r\n",
        "\r\n",
        "print('Number of total text documents:', len(all_text))"
      ],
      "execution_count": 15,
      "outputs": [
        {
          "output_type": "stream",
          "text": [
            "Total number of documents parsed: 10000\n",
            "Number of words in first document:  205\n",
            "Number of words in second document:  202\n",
            "Size of vector embeddings:  (10000, 96)\n",
            "Shape of vectors embeddings matrix:  (10000, 96)\n",
            "Number of total text documents: 10000\n"
          ],
          "name": "stdout"
        }
      ]
    },
    {
      "cell_type": "markdown",
      "metadata": {
        "id": "9ARd0XcEifVX"
      },
      "source": [
        "**Excercice 3: Fitting into analysis**"
      ]
    },
    {
      "cell_type": "markdown",
      "metadata": {
        "id": "yO9ooH2jijph"
      },
      "source": [
        "On utilise le modèle Word2Vec qui consitue un algorithme de Word embedding. Il permet d'apprendre des représentations vectorielles des mots composant un texte, de telle sorte que les mots qui partagent des contextes similaires soient représentés par des vecteurs numériques proches."
      ]
    },
    {
      "cell_type": "code",
      "metadata": {
        "id": "vWlF-u1diN0S"
      },
      "source": [
        "def cleanup_text_word2vec(docs, logging=False):\r\n",
        "    sentences = []\r\n",
        "    counter = 1\r\n",
        "    for doc in docs:\r\n",
        "        if counter % 1000 == 0 and logging:\r\n",
        "            print(\"Processed %d out of %d documents\" % (counter, len(docs)))\r\n",
        "        # Disable tagger so that lemma_ of personal pronouns (I, me, etc) don't getted marked as \"-PRON-\"\r\n",
        "        doc = nlp(doc, disable=['tagger'])\r\n",
        "        # Grab lemmatized form of words and make lowercase\r\n",
        "        doc = \" \".join([tok.lemma_.lower() for tok in doc])\r\n",
        "        # Split into sentences based on punctuation\r\n",
        "        doc = re.split(\"[\\.?!;] \", doc)\r\n",
        "        # Remove commas, periods, and other punctuation (mostly commas)\r\n",
        "        doc = [re.sub(\"[\\.,;:!?]\", \"\", sent) for sent in doc]\r\n",
        "        # Split into words\r\n",
        "        doc = [sent.split() for sent in doc]\r\n",
        "        sentences += doc\r\n",
        "        counter += 1\r\n",
        "    return sentences"
      ],
      "execution_count": 16,
      "outputs": []
    },
    {
      "cell_type": "code",
      "metadata": {
        "colab": {
          "base_uri": "https://localhost:8080/"
        },
        "id": "6TlOP9n9iOBB",
        "outputId": "fbe1ae39-88af-4f9a-f2b2-4a6e4944ed42"
      },
      "source": [
        "train_cleaned_word2vec = cleanup_text_word2vec(all_text['feedback'], logging=True)\r\n",
        "print('Cleaned up data size (i.e. number of sentences): ', len(train_cleaned_word2vec))"
      ],
      "execution_count": 17,
      "outputs": [
        {
          "output_type": "stream",
          "text": [
            "Processed 1000 out of 10000 documents\n",
            "Processed 2000 out of 10000 documents\n",
            "Processed 3000 out of 10000 documents\n",
            "Processed 4000 out of 10000 documents\n",
            "Processed 5000 out of 10000 documents\n",
            "Processed 6000 out of 10000 documents\n",
            "Processed 7000 out of 10000 documents\n",
            "Processed 8000 out of 10000 documents\n",
            "Processed 9000 out of 10000 documents\n",
            "Processed 10000 out of 10000 documents\n",
            "Cleaned up data size (i.e. number of sentences):  42678\n"
          ],
          "name": "stdout"
        }
      ]
    },
    {
      "cell_type": "code",
      "metadata": {
        "colab": {
          "base_uri": "https://localhost:8080/"
        },
        "id": "YNDyXiOYiOSM",
        "outputId": "cec20c65-a73b-4980-9014-f5736c35a69f"
      },
      "source": [
        "from gensim.models.word2vec import Word2Vec\r\n",
        "\r\n",
        "text_dim = 300\r\n",
        "\r\n",
        "print(\"Training Word2Vec model...\")\r\n",
        "\r\n",
        "wordvec_model = Word2Vec(train_cleaned_word2vec, size=text_dim, window=5, min_count=3, workers=4, sg=1)\r\n",
        "\r\n",
        "print(\"Word2Vec model created.\")\r\n",
        "print(\"%d unique words represented by %d dimensional vectors\" % (len(wordvec_model.wv.vocab), text_dim))"
      ],
      "execution_count": 18,
      "outputs": [
        {
          "output_type": "stream",
          "text": [
            "Training Word2Vec model...\n",
            "Word2Vec model created.\n",
            "7979 unique words represented by 300 dimensional vectors\n"
          ],
          "name": "stdout"
        }
      ]
    },
    {
      "cell_type": "code",
      "metadata": {
        "id": "kcog0fpmi6ev"
      },
      "source": [
        "# Define function to create word vectors given a cleaned piece of text.\r\n",
        "def create_average_vec(doc):\r\n",
        "    average = np.zeros((text_dim,), dtype='float32')\r\n",
        "    num_words = 0.\r\n",
        "    for word in doc.split():\r\n",
        "        if word in wordvec_model.wv.vocab:\r\n",
        "            average = np.add(average, wordvec_model[word])\r\n",
        "            num_words += 1.\r\n",
        "    if num_words != 0.:\r\n",
        "        average = np.divide(average, num_words)\r\n",
        "    return average"
      ],
      "execution_count": 19,
      "outputs": []
    },
    {
      "cell_type": "code",
      "metadata": {
        "colab": {
          "base_uri": "https://localhost:8080/"
        },
        "id": "cWuGgfJZiOeP",
        "outputId": "ec562e36-7091-462f-fb63-938c91ea9d23"
      },
      "source": [
        "# Create word vectors\r\n",
        "import warnings\r\n",
        "with warnings.catch_warnings():\r\n",
        "    warnings.simplefilter(\"ignore\", DeprecationWarning)\r\n",
        "\r\n",
        "    train_cleaned_vec = np.zeros((df.shape[0], text_dim), dtype=\"float32\")  # 19579 x 300\r\n",
        "    for i in range(len(data_cleaned)):\r\n",
        "        train_cleaned_vec[i] = create_average_vec(data_cleaned[i])\r\n",
        "\r\n",
        "print(\"Train word vector shape:\", train_cleaned_vec.shape)"
      ],
      "execution_count": 20,
      "outputs": [
        {
          "output_type": "stream",
          "text": [
            "Train word vector shape: (10000, 300)\n"
          ],
          "name": "stdout"
        }
      ]
    },
    {
      "cell_type": "code",
      "metadata": {
        "colab": {
          "base_uri": "https://localhost:8080/"
        },
        "id": "Ai8La0LJiOp-",
        "outputId": "93f88cc4-8055-47ab-beb9-a2c075617031"
      },
      "source": [
        "from sklearn.preprocessing import label_binarize\r\n",
        "from sklearn.model_selection import train_test_split\r\n",
        "\r\n",
        "# Transform labels into one hot encoded format.\r\n",
        "score_string = {\"score\": {0.00: int(0), 0.25: int(1), 0.50: int(2), 1.00: int(3)}}\r\n",
        "df = df.replace(score_string)\r\n",
        "df[\"score\"] = df[\"score\"].astype(int)\r\n",
        "\r\n",
        "y_train_ohe = label_binarize(df['score'], df['score'].unique())\r\n",
        "print('y_train_ohe shape: {}'.format(y_train_ohe.shape))\r\n",
        "print('y_train_ohe samples:')\r\n",
        "print(y_train_ohe[:5])\r\n",
        "\r\n",
        "X_train, X_test, y_train, y_test = train_test_split(train_cleaned_vec, y_train_ohe, test_size = 0.3)\r\n",
        "print('------------------------------')\r\n",
        "print('X_train size: {}'.format(X_train.shape))\r\n",
        "print('X_test size: {}'.format(X_test.shape))\r\n",
        "print('y_train size: {}'.format(y_train.shape))\r\n",
        "print('y_test size: {}'.format(y_test.shape))"
      ],
      "execution_count": 21,
      "outputs": [
        {
          "output_type": "stream",
          "text": [
            "y_train_ohe shape: (10000, 4)\n",
            "y_train_ohe samples:\n",
            "[[1 0 0 0]\n",
            " [1 0 0 0]\n",
            " [1 0 0 0]\n",
            " [0 1 0 0]\n",
            " [0 1 0 0]]\n",
            "------------------------------\n",
            "X_train size: (7000, 300)\n",
            "X_test size: (3000, 300)\n",
            "y_train size: (7000, 4)\n",
            "y_test size: (3000, 4)\n"
          ],
          "name": "stdout"
        }
      ]
    },
    {
      "cell_type": "markdown",
      "metadata": {
        "id": "iJ67rJ-DjqIl"
      },
      "source": [
        "Après l'entrainement du modèle Word2Vec, on va créer le réseau de neurones MLP ( Multi Layer Perceptron) pour faire la classification (4 classes). Le réseau comporte une couches d'entrée, 4 couches cachées, et une couche de sortie."
      ]
    },
    {
      "cell_type": "code",
      "metadata": {
        "id": "vKKoHePiiO24"
      },
      "source": [
        "warnings.simplefilter(\"ignore\", DeprecationWarning)\r\n",
        "from keras.models import Sequential, Model\r\n",
        "from keras.layers import Dense, Dropout, Input, LSTM, Embedding, Bidirectional, Flatten\r\n",
        "from keras.layers import Conv1D, MaxPooling1D, GlobalMaxPooling1D\r\n",
        "from keras.optimizers import SGD\r\n",
        "\r\n",
        "def build_model():\r\n",
        "  model = Sequential()\r\n",
        "        # Densely Connected Neural Network (Multi-Layer Perceptron)\r\n",
        "  model.add(Dense(512, activation='relu', kernel_initializer='he_normal', input_dim=300))\r\n",
        "  model.add(Dropout(0.2))\r\n",
        "  model.add(Dense(512, activation='relu', kernel_initializer='he_normal'))\r\n",
        "  model.add(Dropout(0.2))\r\n",
        "  model.add(Dense(512, activation='relu', kernel_initializer='he_normal'))\r\n",
        "  model.add(Dropout(0.2))\r\n",
        "  model.add(Dense(512, activation='relu', kernel_initializer='he_normal'))\r\n",
        "  model.add(Dropout(0.2))\r\n",
        "  model.add(Dense(4, activation='softmax'))\r\n",
        "  return model"
      ],
      "execution_count": 22,
      "outputs": []
    },
    {
      "cell_type": "code",
      "metadata": {
        "colab": {
          "base_uri": "https://localhost:8080/"
        },
        "id": "VkBav-wbjzcx",
        "outputId": "8a8a7497-2249-4245-9e11-05caa132dba1"
      },
      "source": [
        "with warnings.catch_warnings():\r\n",
        "    warnings.simplefilter(\"ignore\", DeprecationWarning)\r\n",
        "\r\n",
        "    model = build_model()  #('mlp')\r\n",
        "    model.summary()"
      ],
      "execution_count": 23,
      "outputs": [
        {
          "output_type": "stream",
          "text": [
            "Model: \"sequential\"\n",
            "_________________________________________________________________\n",
            "Layer (type)                 Output Shape              Param #   \n",
            "=================================================================\n",
            "dense (Dense)                (None, 512)               154112    \n",
            "_________________________________________________________________\n",
            "dropout (Dropout)            (None, 512)               0         \n",
            "_________________________________________________________________\n",
            "dense_1 (Dense)              (None, 512)               262656    \n",
            "_________________________________________________________________\n",
            "dropout_1 (Dropout)          (None, 512)               0         \n",
            "_________________________________________________________________\n",
            "dense_2 (Dense)              (None, 512)               262656    \n",
            "_________________________________________________________________\n",
            "dropout_2 (Dropout)          (None, 512)               0         \n",
            "_________________________________________________________________\n",
            "dense_3 (Dense)              (None, 512)               262656    \n",
            "_________________________________________________________________\n",
            "dropout_3 (Dropout)          (None, 512)               0         \n",
            "_________________________________________________________________\n",
            "dense_4 (Dense)              (None, 4)                 2052      \n",
            "=================================================================\n",
            "Total params: 944,132\n",
            "Trainable params: 944,132\n",
            "Non-trainable params: 0\n",
            "_________________________________________________________________\n"
          ],
          "name": "stdout"
        }
      ]
    },
    {
      "cell_type": "markdown",
      "metadata": {
        "id": "sk8eqOGDmNcA"
      },
      "source": [
        "On utilise commme optimizer SGD (Stochastic Gradient Descent)"
      ]
    },
    {
      "cell_type": "code",
      "metadata": {
        "id": "BxuBX1HNjz5H"
      },
      "source": [
        "with warnings.catch_warnings():\r\n",
        "    warnings.simplefilter(\"ignore\", DeprecationWarning)\r\n",
        "\r\n",
        "    sgd = SGD(lr=0.01, decay=1e-6, momentum=0.9, nesterov=True)\r\n",
        "    model.compile(optimizer=sgd, loss='categorical_crossentropy', metrics=['acc'])"
      ],
      "execution_count": 24,
      "outputs": []
    },
    {
      "cell_type": "code",
      "metadata": {
        "colab": {
          "base_uri": "https://localhost:8080/"
        },
        "id": "5CX3_7AakBpm",
        "outputId": "46905376-2c62-4052-d74e-47b383da1933"
      },
      "source": [
        "with warnings.catch_warnings():\r\n",
        "    warnings.simplefilter(\"ignore\", DeprecationWarning)\r\n",
        "\r\n",
        "    # Define number of epochs\r\n",
        "    epochs = 50\r\n",
        "\r\n",
        "    # Fit the model to the training data\r\n",
        "    estimator = model.fit(X_train, y_train,\r\n",
        "                          validation_split=0.2,\r\n",
        "                          epochs=epochs, batch_size=128, verbose=100)"
      ],
      "execution_count": 25,
      "outputs": [
        {
          "output_type": "stream",
          "text": [
            "Epoch 1/50\n",
            "Epoch 2/50\n",
            "Epoch 3/50\n",
            "Epoch 4/50\n",
            "Epoch 5/50\n",
            "Epoch 6/50\n",
            "Epoch 7/50\n",
            "Epoch 8/50\n",
            "Epoch 9/50\n",
            "Epoch 10/50\n",
            "Epoch 11/50\n",
            "Epoch 12/50\n",
            "Epoch 13/50\n",
            "Epoch 14/50\n",
            "Epoch 15/50\n",
            "Epoch 16/50\n",
            "Epoch 17/50\n",
            "Epoch 18/50\n",
            "Epoch 19/50\n",
            "Epoch 20/50\n",
            "Epoch 21/50\n",
            "Epoch 22/50\n",
            "Epoch 23/50\n",
            "Epoch 24/50\n",
            "Epoch 25/50\n",
            "Epoch 26/50\n",
            "Epoch 27/50\n",
            "Epoch 28/50\n",
            "Epoch 29/50\n",
            "Epoch 30/50\n",
            "Epoch 31/50\n",
            "Epoch 32/50\n",
            "Epoch 33/50\n",
            "Epoch 34/50\n",
            "Epoch 35/50\n",
            "Epoch 36/50\n",
            "Epoch 37/50\n",
            "Epoch 38/50\n",
            "Epoch 39/50\n",
            "Epoch 40/50\n",
            "Epoch 41/50\n",
            "Epoch 42/50\n",
            "Epoch 43/50\n",
            "Epoch 44/50\n",
            "Epoch 45/50\n",
            "Epoch 46/50\n",
            "Epoch 47/50\n",
            "Epoch 48/50\n",
            "Epoch 49/50\n",
            "Epoch 50/50\n"
          ],
          "name": "stdout"
        }
      ]
    },
    {
      "cell_type": "markdown",
      "metadata": {
        "id": "9sxr4E4imm8Q"
      },
      "source": [
        "Pour évaluer le modèle on utlise la métrique de la précision, on voit donc que score d'entrainement est de l'ordre de 81%, et celui du test est de 78.9% "
      ]
    },
    {
      "cell_type": "code",
      "metadata": {
        "colab": {
          "base_uri": "https://localhost:8080/"
        },
        "id": "Rd5jFNrrkMY7",
        "outputId": "7b821352-9602-4291-8f59-64ebb5067c7e"
      },
      "source": [
        "print(\"Training accuracy: %.2f%% / Validation accuracy: %.2f%%\" %\r\n",
        "      (100*estimator.history['acc'][-1], 100*estimator.history['val_acc'][-1]))"
      ],
      "execution_count": 26,
      "outputs": [
        {
          "output_type": "stream",
          "text": [
            "Training accuracy: 81.18% / Validation accuracy: 78.93%\n"
          ],
          "name": "stdout"
        }
      ]
    },
    {
      "cell_type": "code",
      "metadata": {
        "colab": {
          "base_uri": "https://localhost:8080/",
          "height": 295
        },
        "id": "pK4OE4xZkNjp",
        "outputId": "6e8296a6-7924-4028-a669-279bc67d3b72"
      },
      "source": [
        "# Plot model accuracy over epochs\r\n",
        "fig, ax = plt.subplots(1, 2, figsize=(12,4))\r\n",
        "\r\n",
        "sns.reset_orig()   # Reset seaborn settings to get rid of black background\r\n",
        "ax[0].plot(estimator.history['acc'])\r\n",
        "ax[0].plot(estimator.history['val_acc'])\r\n",
        "ax[0].set_title('model accuracy')\r\n",
        "ax[0].set_ylabel('accuracy')\r\n",
        "ax[0].set_xlabel('epoch')\r\n",
        "ax[0].legend(['train', 'valid'], loc='upper left')\r\n",
        "\r\n",
        "# Plot model loss over epochs\r\n",
        "ax[1].plot(estimator.history['loss'])\r\n",
        "ax[1].plot(estimator.history['val_loss'])\r\n",
        "ax[1].set_title('model loss')\r\n",
        "ax[1].set_ylabel('loss')\r\n",
        "ax[1].set_xlabel('epoch')\r\n",
        "ax[1].legend(['train', 'valid'], loc='upper left');"
      ],
      "execution_count": 27,
      "outputs": [
        {
          "output_type": "display_data",
          "data": {
            "image/png": "[encoded data removed]",
            "text/plain": [
              "<Figure size 864x288 with 2 Axes>"
            ]
          },
          "metadata": {
            "tags": []
          }
        }
      ]
    }
  ]
}